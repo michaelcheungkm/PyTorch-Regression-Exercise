{
  "nbformat": 4,
  "nbformat_minor": 0,
  "metadata": {
    "colab": {
      "provenance": []
    },
    "kernelspec": {
      "name": "python3",
      "display_name": "Python 3"
    },
    "language_info": {
      "name": "python"
    }
  },
  "cells": [
    {
      "cell_type": "markdown",
      "source": [
        "## The process of a standard PyTorch Regression Exercise\n",
        "\n",
        "\n",
        "\n",
        "$$\\begin{array}{ll}\n",
        "\\text{Topic}&\\text{Contents}\\\\\n",
        "\\hline\n",
        "\\text{1. Getting data ready}&\\text{Data can be almost anything but to get started we're going}\\\\\n",
        "&\\text{to create a simple straight line}\\\\\n",
        "\\hline\n",
        "\\text{2. Building a model}&\\text{Here we'll create a model to learn patterns in the data, we'll}\\\\\n",
        "&\\text{also choose a } \\textbf{loss function}\\text{ , }\\textbf{optimizer} \\text{ and build a }\\\\\n",
        "&\\textbf{training loop}\\\\\n",
        "\\hline\n",
        "\\text{3. Fitting the model to training}&\\text{We've got data and a model, now let's let the model to find}\\\\\n",
        "\\text{ data}&\\text{patterns in the training data.}\\\\\n",
        "\\hline\n",
        "\\text{4. Making predictions and}&\\text{Our model's found patterns in the data, let's compare its}\\\\\n",
        "\\text{evaluating a model}&\\text{findings to the actual testing data}\\\\\n",
        "\\hline\n",
        "\\text{5. Saving and loading a model}&\\text{We may want to use our model elsewhere, or come back to}\\\\\n",
        "&\\text{it later}\\\\\n",
        "\\end{array}\n",
        "$$"
      ],
      "metadata": {
        "id": "J_BN8UZuyl4R"
      }
    },
    {
      "cell_type": "code",
      "source": [
        "import torch\n",
        "from torch import nn # nn contains all of PyTorch's building blocks for neural networks\n",
        "import matplotlib.pyplot as plt\n",
        "\n",
        "# Check PyTorch version\n",
        "torch.__version__"
      ],
      "metadata": {
        "colab": {
          "base_uri": "https://localhost:8080/",
          "height": 36
        },
        "id": "ldLP51sbz0yo",
        "outputId": "dde727a9-f94d-4eb4-d06d-64f7a7313884"
      },
      "execution_count": 1,
      "outputs": [
        {
          "output_type": "execute_result",
          "data": {
            "text/plain": [
              "'2.1.0+cu118'"
            ],
            "application/vnd.google.colaboratory.intrinsic+json": {
              "type": "string"
            }
          },
          "metadata": {},
          "execution_count": 1
        }
      ]
    },
    {
      "cell_type": "code",
      "source": [
        "from torch.utils.data import DataLoader\n",
        "from sklearn.preprocessing import StandardScaler\n",
        "import pandas as pd\n",
        "import numpy as np\n",
        "# Import tensor dataset & data loader\n",
        "from torch.utils.data import TensorDataset, DataLoader\n",
        "# Import nn.functional\n",
        "import torch.nn.functional as F\n",
        "from sklearn.model_selection import train_test_split\n",
        "from sklearn.metrics import accuracy_score\n",
        "from pylab import rcParams"
      ],
      "metadata": {
        "id": "ABISDGje4Dwh"
      },
      "execution_count": 10,
      "outputs": []
    },
    {
      "cell_type": "code",
      "source": [
        "rcParams['figure.figsize'] = 16, 9"
      ],
      "metadata": {
        "id": "VxaMaqcX6Vxb"
      },
      "execution_count": 7,
      "outputs": []
    },
    {
      "cell_type": "markdown",
      "source": [
        "**A function to split a dataset into a training and a testing set**"
      ],
      "metadata": {
        "id": "ardU03sHbmgy"
      }
    },
    {
      "cell_type": "code",
      "source": [
        "def train_test_split(data,r=0.7):\n",
        "    arr = np.arange(len(data))\n",
        "    np.random.shuffle(arr)\n",
        "    m=np.floor(len(data)*r).astype('int')\n",
        "    train_idx = list(arr[:m])\n",
        "    test_idx = list(arr[m:])\n",
        "    return data.iloc[train_idx], data.iloc[test_idx], train_idx, test_idx"
      ],
      "metadata": {
        "id": "Z5DVYyO4bljy"
      },
      "execution_count": 111,
      "outputs": []
    },
    {
      "cell_type": "markdown",
      "source": [
        "**A function to plot a relationship between $X$ and $Y$**"
      ],
      "metadata": {
        "id": "SaG8GYFVbsOA"
      }
    },
    {
      "cell_type": "code",
      "source": [
        "def plot_scatter(X,Y,d,dd,varlabels):\n",
        "    m = np.polyfit(X, Y, d)\n",
        "    for i in range(len(m)):\n",
        "        if i==0:\n",
        "            predicted = m[-1]\n",
        "            Z = np.ones(len(X))\n",
        "        else:\n",
        "            Z = Z*X\n",
        "            predicted = predicted + m[-1-i]*Z\n",
        "    e = np.abs(Y - predicted)\n",
        "    labels = list(range(len(Y)))\n",
        "    lpf = [labels[x] for x in np.argsort(e)]\n",
        "    erf = [X[x] for x in np.argsort(e)]\n",
        "    spf = [Y[x] for x in np.argsort(e)]\n",
        "    ls = np.argsort(X)\n",
        "    XS = [X[s] for s in ls]\n",
        "    pS = [predicted[s] for s in ls]\n",
        "    plt.scatter(X,Y, color='purple')\n",
        "    plt.plot(XS,pS,'r--')\n",
        "    for c in range(1,dd):\n",
        "        plt.annotate(lpf[-c], (erf[-c], spf[-c]))\n",
        "    plt.xlabel(varlabels[0])\n",
        "    plt.ylabel(varlabels[1])\n",
        "    plt.title(f'Plot of {varlabels[0]} vs. {varlabels[1]}')"
      ],
      "metadata": {
        "id": "kjcP-M_2bxf6"
      },
      "execution_count": 110,
      "outputs": []
    },
    {
      "cell_type": "markdown",
      "source": [
        "## Using Tensors to compute derivatives"
      ],
      "metadata": {
        "id": "haK9QSmGC7Tu"
      }
    },
    {
      "cell_type": "markdown",
      "source": [
        "Consider a relationship between $x$ and $y$ where $y = w \\times x + b$. Here, $w$ and $b$ are unknown parameters. What makes PyTorch special, is that we can automatically compute the derivative of $y$ w.r.t. the tensors that have requires_grad set to True i.e. $w$ and $b$."
      ],
      "metadata": {
        "id": "9ePTCqAYBkIU"
      }
    },
    {
      "cell_type": "code",
      "source": [
        "# Create tensors.\n",
        "x = torch.tensor(3.)\n",
        "w = torch.tensor(4., requires_grad=True)\n",
        "b = torch.tensor(5., requires_grad=True)"
      ],
      "metadata": {
        "id": "XnWDE-eHCITn"
      },
      "execution_count": 12,
      "outputs": []
    },
    {
      "cell_type": "code",
      "source": [
        "x, w, b"
      ],
      "metadata": {
        "colab": {
          "base_uri": "https://localhost:8080/"
        },
        "id": "KGZ1lNw6Ch0X",
        "outputId": "cf6d49c8-fa30-48ef-e692-2dfec5863593"
      },
      "execution_count": 13,
      "outputs": [
        {
          "output_type": "execute_result",
          "data": {
            "text/plain": [
              "(tensor(3.), tensor(4., requires_grad=True), tensor(5., requires_grad=True))"
            ]
          },
          "metadata": {},
          "execution_count": 13
        }
      ]
    },
    {
      "cell_type": "code",
      "source": [
        "# Arithmetic operations\n",
        "y = w * x + b\n",
        "print(y)"
      ],
      "metadata": {
        "colab": {
          "base_uri": "https://localhost:8080/"
        },
        "id": "lm--qpMPCkdH",
        "outputId": "52fa7fa6-5b6e-4f0f-b855-fc23a1b605a1"
      },
      "execution_count": 14,
      "outputs": [
        {
          "output_type": "stream",
          "name": "stdout",
          "text": [
            "tensor(17., grad_fn=<AddBackward0>)\n"
          ]
        }
      ]
    },
    {
      "cell_type": "code",
      "source": [
        "# Compute gradients\n",
        "y.backward()"
      ],
      "metadata": {
        "id": "Zg2u6wnhCsoO"
      },
      "execution_count": 15,
      "outputs": []
    },
    {
      "cell_type": "code",
      "source": [
        "# Display gradients\n",
        "print('dy/dw:', w.grad)\n",
        "print('dy/db:', b.grad)"
      ],
      "metadata": {
        "colab": {
          "base_uri": "https://localhost:8080/"
        },
        "id": "mvwBomCZCwkI",
        "outputId": "1269194a-fd57-47f9-ff77-795c30d906d4"
      },
      "execution_count": 16,
      "outputs": [
        {
          "output_type": "stream",
          "name": "stdout",
          "text": [
            "dy/dw: tensor(3.)\n",
            "dy/db: tensor(1.)\n"
          ]
        }
      ]
    },
    {
      "cell_type": "markdown",
      "source": [
        "## Collecting Data\n",
        "\n",
        "\n",
        "We'll create a model that predicts crop yeilds for apples and oranges (target variables) by looking at the average temperature, rainfall and humidity (input variables or features) in a region. Here's the training data:\n",
        "\n",
        "$$\\begin{array}{|l|c|c|c|c|c|}\n",
        "\\hline\n",
        "\\text{Region}&\\text{Temp}&\\text{Rainfall}&\\text{Humidity}&\\text{Applies}&\\text{Oranges}\\\\\n",
        "\\hline\n",
        "\\text{Kanto}&73&67&43&56&70\\\\\n",
        "\\text{Johto}&91&88&64&81&101\\\\\n",
        "\\text{Hoenn}&87&134&58&119&133\\\\\n",
        "\\text{Sinnoh}&102&43&37&22&37\\\\\n",
        "\\text{Unova}&69&96&70&103&119\\\\\n",
        "\\hline\n",
        "\\end{array}$$\n",
        "\n",
        "In a linear regression model, each target variable is estimated to be a weighted sum of the input variables, offset by some constant, known as a bias :\n",
        "<br>\n",
        "<br>\n",
        "\n",
        "\n",
        "yield_apple  = w11 * temp + w12 * rainfall + w13 * humidity + b1\n",
        "\n",
        "yield_orange = w21 * temp + w22 * rainfall + w23 * humidity + b2\n",
        "<br>\n",
        "<br>\n",
        "\n",
        "\n",
        "**The Training Data**\n",
        "\n",
        "\n",
        "The training data can be represented using 2 matrices (inputs and targets), each with one row per observation and one column per variable."
      ],
      "metadata": {
        "id": "Y_PrmGaG6Iab"
      }
    },
    {
      "cell_type": "code",
      "source": [
        "# Input (temp, rainfall, humidity)\n",
        "inputs = torch.tensor([[73, 67, 43],\n",
        "                       [91, 88, 64],\n",
        "                       [87, 134, 58],\n",
        "                       [102, 43, 37],\n",
        "                       [69, 96, 70]], dtype=torch.float32)"
      ],
      "metadata": {
        "id": "6Wx08Kcv6Dwt"
      },
      "execution_count": 18,
      "outputs": []
    },
    {
      "cell_type": "code",
      "source": [
        "# Targets (apples, oranges)\n",
        "targets = torch.tensor([[56, 70],\n",
        "                        [81, 101],\n",
        "                        [119, 133],\n",
        "                        [22, 37],\n",
        "                        [103, 119]], dtype=torch.float32)"
      ],
      "metadata": {
        "id": "0uk_ruAHEEZQ"
      },
      "execution_count": 19,
      "outputs": []
    },
    {
      "cell_type": "code",
      "source": [
        "print(inputs)"
      ],
      "metadata": {
        "colab": {
          "base_uri": "https://localhost:8080/"
        },
        "id": "mvaRJJrMEQee",
        "outputId": "8107b9af-c065-400e-9a66-6d197479d489"
      },
      "execution_count": 20,
      "outputs": [
        {
          "output_type": "stream",
          "name": "stdout",
          "text": [
            "tensor([[ 73.,  67.,  43.],\n",
            "        [ 91.,  88.,  64.],\n",
            "        [ 87., 134.,  58.],\n",
            "        [102.,  43.,  37.],\n",
            "        [ 69.,  96.,  70.]])\n"
          ]
        }
      ]
    },
    {
      "cell_type": "code",
      "source": [
        "print(targets)"
      ],
      "metadata": {
        "colab": {
          "base_uri": "https://localhost:8080/"
        },
        "id": "mNBG10HKET6N",
        "outputId": "adb5b2a9-2527-4931-cdda-16f61c8fa08d"
      },
      "execution_count": 21,
      "outputs": [
        {
          "output_type": "stream",
          "name": "stdout",
          "text": [
            "tensor([[ 56.,  70.],\n",
            "        [ 81., 101.],\n",
            "        [119., 133.],\n",
            "        [ 22.,  37.],\n",
            "        [103., 119.]])\n"
          ]
        }
      ]
    },
    {
      "cell_type": "markdown",
      "source": [
        "## Linear Regression Model\n",
        "\n",
        "The weights and biases can also be represented as matrices, initialized with random values. The first row of $w$ and the first element of $b$ are use to predict the first target variable i.e. yield for apples, and similarly the second for oranges."
      ],
      "metadata": {
        "id": "1dIbBnPoEkX8"
      }
    },
    {
      "cell_type": "code",
      "source": [
        "# Random initialize the Weights and biases\n",
        "w = torch.randn(2, 3, requires_grad=True)\n",
        "b = torch.randn(2, requires_grad=True)\n",
        "print(w)\n",
        "print(b)"
      ],
      "metadata": {
        "colab": {
          "base_uri": "https://localhost:8080/"
        },
        "id": "37qLK--LEoGk",
        "outputId": "074a9cab-e5b5-4b90-c015-b87039fd644c"
      },
      "execution_count": 27,
      "outputs": [
        {
          "output_type": "stream",
          "name": "stdout",
          "text": [
            "tensor([[ 0.2565,  1.4248, -1.4434],\n",
            "        [-0.4054, -0.4506,  0.2090]], requires_grad=True)\n",
            "tensor([0.9352, 0.5314], requires_grad=True)\n"
          ]
        }
      ]
    },
    {
      "cell_type": "markdown",
      "source": [
        "The model is simply a function that performs a matrix multiplication of the input $x$ and the weights $w$ (transposed) and adds the bias $b$ (replicated for each observation).\n",
        "\n",
        "$$X \\times W^{T} + b$$\n",
        "\n",
        "$$\\begin{bmatrix} 73&67&43\\\\91&88&64\\\\87&134&58\\\\102&43&37\\\\69&96&70\\end{bmatrix} \\begin{bmatrix}0.3367&0.2303\\\\0.1288&-1.1229\\\\0.2345&-0.1863\\end{bmatrix} = \\begin{bmatrix}2.2082&-0.6380\\\\2.2082&-0.6380\\\\2.2082&-0.6380\\\\2.2082&-0.6380\\\\2.2082&-0.6380\\end{bmatrix}$$"
      ],
      "metadata": {
        "id": "cms6Kz-DFKkC"
      }
    },
    {
      "cell_type": "code",
      "source": [
        "#Define the model\n",
        "def model(x,w,b):\n",
        "    return torch.matmul(x,w.T)+b"
      ],
      "metadata": {
        "id": "9BYqR-0KG1GK"
      },
      "execution_count": 23,
      "outputs": []
    },
    {
      "cell_type": "markdown",
      "source": [
        "The matrix obtained by passing the input data to the model is a set of predictions for the target variables."
      ],
      "metadata": {
        "id": "xNd6n7oiHiNK"
      }
    },
    {
      "cell_type": "code",
      "source": [
        "# Generate predictions\n",
        "preds = model(inputs,w,b)\n",
        "print(preds)"
      ],
      "metadata": {
        "colab": {
          "base_uri": "https://localhost:8080/"
        },
        "id": "9n3Vkqs-Hg_6",
        "outputId": "bd298f30-668d-476c-b0d0-c2df32855118"
      },
      "execution_count": 28,
      "outputs": [
        {
          "output_type": "stream",
          "name": "stdout",
          "text": [
            "tensor([[ 53.0530, -50.2627],\n",
            "        [ 57.2785, -62.6322],\n",
            "        [130.4523, -82.9916],\n",
            "        [ 34.9582, -52.4596],\n",
            "        [ 54.3727, -56.0637]], grad_fn=<AddBackward0>)\n"
          ]
        }
      ]
    },
    {
      "cell_type": "code",
      "source": [
        "# Compare with targets\n",
        "print(targets)"
      ],
      "metadata": {
        "colab": {
          "base_uri": "https://localhost:8080/"
        },
        "id": "vq4Q_z5HHv-L",
        "outputId": "db6c2883-83fa-4c90-9078-c1c19ab78b19"
      },
      "execution_count": 29,
      "outputs": [
        {
          "output_type": "stream",
          "name": "stdout",
          "text": [
            "tensor([[ 56.,  70.],\n",
            "        [ 81., 101.],\n",
            "        [119., 133.],\n",
            "        [ 22.,  37.],\n",
            "        [103., 119.]])\n"
          ]
        }
      ]
    },
    {
      "cell_type": "markdown",
      "source": [
        "Because we've started with random weights and biases, the model does not do a very good job of predicting the target varaibles."
      ],
      "metadata": {
        "id": "RrLM8vRcH6iD"
      }
    },
    {
      "cell_type": "markdown",
      "source": [
        "## Loss Function\n",
        "\n",
        "We can compare the predictions with the actual targets, using the following method:\n",
        "\n",
        "- Calculate the difference between the two matrices (preds and targets).\n",
        "\n",
        "- Square all elements of the difference matrix to remove negative values.\n",
        "\n",
        "- Calculate the average of the elements in the resulting matrix.\n",
        "\n",
        "The result is a single number, known as the mean squared error (MSE)."
      ],
      "metadata": {
        "id": "uSLMNFmYH_Py"
      }
    },
    {
      "cell_type": "code",
      "source": [
        "# MSE loss\n",
        "def mse(t1, t2):\n",
        "    diff = t1 - t2\n",
        "    return torch.sum(diff * diff) / diff.numel()"
      ],
      "metadata": {
        "id": "MZ8JiykBIFif"
      },
      "execution_count": 30,
      "outputs": []
    },
    {
      "cell_type": "code",
      "source": [
        "# Compute loss\n",
        "loss = mse(preds, targets)\n",
        "print(loss)"
      ],
      "metadata": {
        "colab": {
          "base_uri": "https://localhost:8080/"
        },
        "id": "1NOK13xAIT4v",
        "outputId": "86192feb-ab04-4243-c8bd-67369fd7cf1f"
      },
      "execution_count": 31,
      "outputs": [
        {
          "output_type": "stream",
          "name": "stdout",
          "text": [
            "tensor(12977.6406, grad_fn=<DivBackward0>)\n"
          ]
        }
      ]
    },
    {
      "cell_type": "markdown",
      "source": [
        "The resulting number is called the loss, because it indicates how bad the model is at predicting the target variables. Lower the loss, better the model."
      ],
      "metadata": {
        "id": "4s8EyWfoIWfW"
      }
    },
    {
      "cell_type": "markdown",
      "source": [
        "## Compute Gradients\n",
        "\n",
        "With PyTorch, we can automatically compute the gradient or derivative of the loss w.r.t. to the weights and biases, because they have requires_grad set to True."
      ],
      "metadata": {
        "id": "rHbc6bumIbt1"
      }
    },
    {
      "cell_type": "code",
      "source": [
        "# Compute gradients\n",
        "loss.backward()"
      ],
      "metadata": {
        "id": "GsFP3ls8JPPo"
      },
      "execution_count": 32,
      "outputs": []
    },
    {
      "cell_type": "markdown",
      "source": [
        "The gradients are stored in the .grad property of the respective tensors."
      ],
      "metadata": {
        "id": "9nRT24EYJYAZ"
      }
    },
    {
      "cell_type": "code",
      "source": [
        "# Gradients for weights\n",
        "print(w)\n",
        "print(w.grad)"
      ],
      "metadata": {
        "colab": {
          "base_uri": "https://localhost:8080/"
        },
        "id": "IO9Wd1sFJVZx",
        "outputId": "e94e0789-43fd-4f8f-e408-7221ba2edd90"
      },
      "execution_count": 33,
      "outputs": [
        {
          "output_type": "stream",
          "name": "stdout",
          "text": [
            "tensor([[ 0.2565,  1.4248, -1.4434],\n",
            "        [-0.4054, -0.4506,  0.2090]], requires_grad=True)\n",
            "tensor([[  -682.1962,   -972.2704,   -781.0243],\n",
            "        [-12733.0518, -14410.5986,  -8747.1475]])\n"
          ]
        }
      ]
    },
    {
      "cell_type": "code",
      "source": [
        "# Gradients for bias\n",
        "print(b)\n",
        "print(b.grad)"
      ],
      "metadata": {
        "colab": {
          "base_uri": "https://localhost:8080/"
        },
        "id": "3kK8JlNMJgjW",
        "outputId": "75b8aabc-0838-4c81-ce8d-bec2334ecfab"
      },
      "execution_count": 34,
      "outputs": [
        {
          "output_type": "stream",
          "name": "stdout",
          "text": [
            "tensor([0.9352, 0.5314], requires_grad=True)\n",
            "tensor([ -10.1771, -152.8820])\n"
          ]
        }
      ]
    },
    {
      "cell_type": "markdown",
      "source": [
        "A key insight from calculus is that the gradient indicates the rate of change of the loss, or the slope of the loss function w.r.t. the weights and biases.\n",
        "\n",
        "If a gradient element is postive,\n",
        "\n",
        "- increasing the element's value slightly will increase the loss.\n",
        "\n",
        "- decreasing the element's value slightly will decrease the loss.\n",
        "\n",
        "If a gradient element is negative,\n",
        "\n",
        "- increasing the element's value slightly will decrease the loss.\n",
        "\n",
        "- decreasing the element's value slightly will increase the loss.\n",
        "\n",
        "The increase or decrease is proportional to the value of the gradient.\n",
        "\n",
        "Finally, we'll reset the gradients to zero before moving forward, because PyTorch accumulates gradients."
      ],
      "metadata": {
        "id": "UUjjaRodJj5H"
      }
    },
    {
      "cell_type": "code",
      "source": [
        "w.grad.zero_()\n",
        "b.grad.zero_()\n",
        "print(w.grad)\n",
        "print(b.grad)"
      ],
      "metadata": {
        "colab": {
          "base_uri": "https://localhost:8080/"
        },
        "id": "VE2mJlfrKssI",
        "outputId": "86569b71-3530-415c-b4cb-6150e25d5ab4"
      },
      "execution_count": 35,
      "outputs": [
        {
          "output_type": "stream",
          "name": "stdout",
          "text": [
            "tensor([[0., 0., 0.],\n",
            "        [0., 0., 0.]])\n",
            "tensor([0., 0.])\n"
          ]
        }
      ]
    },
    {
      "cell_type": "markdown",
      "source": [
        "## Adjust weights and biases using gradient descent\n",
        "\n",
        "We'll reduce the loss and improve our model using the gradient descent algorithm, which has the following steps:\n",
        "\n",
        "- Generate predictions\n",
        "\n",
        "- Calculate the loss\n",
        "\n",
        "- Compute gradients w.r.t the weights and biases\n",
        "\n",
        "- Adjust the weights by subtracting a small quantity proportional to the gradient\n",
        "\n",
        "- Reset the gradients to zero\n",
        "\n",
        "\n",
        "\n",
        "\n",
        "We are going through the above steps to adjust parameters."
      ],
      "metadata": {
        "id": "SROnzT4sLFUV"
      }
    },
    {
      "cell_type": "code",
      "source": [
        "# Generate predictions\n",
        "preds = model(inputs,w,b)\n",
        "print(preds)"
      ],
      "metadata": {
        "colab": {
          "base_uri": "https://localhost:8080/"
        },
        "id": "C5yN2mfSLv-a",
        "outputId": "f428e962-29a3-4731-ebee-1f2b5ae851e4"
      },
      "execution_count": 37,
      "outputs": [
        {
          "output_type": "stream",
          "name": "stdout",
          "text": [
            "tensor([[ 53.0530, -50.2627],\n",
            "        [ 57.2785, -62.6322],\n",
            "        [130.4523, -82.9916],\n",
            "        [ 34.9582, -52.4596],\n",
            "        [ 54.3727, -56.0637]], grad_fn=<AddBackward0>)\n"
          ]
        }
      ]
    },
    {
      "cell_type": "code",
      "source": [
        "# Calculate the loss\n",
        "loss = mse(preds, targets)\n",
        "print(loss)"
      ],
      "metadata": {
        "colab": {
          "base_uri": "https://localhost:8080/"
        },
        "id": "w4B2mqePMGiJ",
        "outputId": "86fa9c0b-593d-4957-a6d7-e0fe565c4dfd"
      },
      "execution_count": 38,
      "outputs": [
        {
          "output_type": "stream",
          "name": "stdout",
          "text": [
            "tensor(12977.6406, grad_fn=<DivBackward0>)\n"
          ]
        }
      ]
    },
    {
      "cell_type": "code",
      "source": [
        "# Compute gradients\n",
        "loss.backward()"
      ],
      "metadata": {
        "id": "mKWYiFasMMZI"
      },
      "execution_count": 39,
      "outputs": []
    },
    {
      "cell_type": "code",
      "source": [
        "# Adjust weights & reset gradients\n",
        "#The wrapper with torch.no_grad() temporarily sets all of the requires_grad flags to false.\n",
        "with torch.no_grad():\n",
        "    w -= w.grad * 1e-5\n",
        "    b -= b.grad * 1e-5\n",
        "    w.grad.zero_()\n",
        "    b.grad.zero_()"
      ],
      "metadata": {
        "id": "Kn0KZUiVMPwP"
      },
      "execution_count": 40,
      "outputs": []
    },
    {
      "cell_type": "code",
      "source": [
        "print(w)"
      ],
      "metadata": {
        "colab": {
          "base_uri": "https://localhost:8080/"
        },
        "id": "IgfUlLzCNFKZ",
        "outputId": "55208699-1fe0-43a5-eeb3-bc5b6f03142e"
      },
      "execution_count": 41,
      "outputs": [
        {
          "output_type": "stream",
          "name": "stdout",
          "text": [
            "tensor([[ 0.2633,  1.4345, -1.4356],\n",
            "        [-0.2781, -0.3065,  0.2965]], requires_grad=True)\n"
          ]
        }
      ]
    },
    {
      "cell_type": "code",
      "source": [
        "# Calculate loss\n",
        "preds = model(inputs,w,b)\n",
        "loss = mse(preds, targets)\n",
        "print(loss)"
      ],
      "metadata": {
        "colab": {
          "base_uri": "https://localhost:8080/"
        },
        "id": "gH99BoCHNKMx",
        "outputId": "c3aaf4e1-b61a-4e29-f80b-a9ee74e0811a"
      },
      "execution_count": 43,
      "outputs": [
        {
          "output_type": "stream",
          "name": "stdout",
          "text": [
            "tensor(8895.3145, grad_fn=<DivBackward0>)\n"
          ]
        }
      ]
    },
    {
      "cell_type": "code",
      "source": [
        "# Train for 1000 epochs\n",
        "for i in range(1000):\n",
        "    preds = model(inputs,w,b)\n",
        "    loss = mse(preds, targets)\n",
        "    loss.backward()\n",
        "    with torch.no_grad():\n",
        "        w -= w.grad * 1e-5\n",
        "        b -= b.grad * 1e-5\n",
        "        w.grad.zero_()\n",
        "        b.grad.zero_()"
      ],
      "metadata": {
        "id": "_IWgnKicNQ-o"
      },
      "execution_count": 61,
      "outputs": []
    },
    {
      "cell_type": "code",
      "source": [
        "# Calculate loss\n",
        "preds = model(inputs,w,b)\n",
        "loss = mse(preds, targets)\n",
        "print(loss)"
      ],
      "metadata": {
        "colab": {
          "base_uri": "https://localhost:8080/"
        },
        "id": "j8q0HYzrNYF3",
        "outputId": "135c06fd-12f1-4aa9-f43a-88ce7e48abfb"
      },
      "execution_count": 62,
      "outputs": [
        {
          "output_type": "stream",
          "name": "stdout",
          "text": [
            "tensor(0.6071, grad_fn=<DivBackward0>)\n"
          ]
        }
      ]
    },
    {
      "cell_type": "code",
      "source": [
        "# Print predictions\n",
        "preds"
      ],
      "metadata": {
        "colab": {
          "base_uri": "https://localhost:8080/"
        },
        "id": "wNpKQ9OQNcH-",
        "outputId": "b8d76ece-d34f-4d0a-967c-edb9e018708f"
      },
      "execution_count": 63,
      "outputs": [
        {
          "output_type": "execute_result",
          "data": {
            "text/plain": [
              "tensor([[ 57.3533,  70.4009],\n",
              "        [ 81.8529, 100.5955],\n",
              "        [119.1987, 132.9823],\n",
              "        [ 21.2105,  37.0147],\n",
              "        [101.4151, 119.1138]], grad_fn=<AddBackward0>)"
            ]
          },
          "metadata": {},
          "execution_count": 63
        }
      ]
    },
    {
      "cell_type": "code",
      "source": [
        "# Print targets\n",
        "targets"
      ],
      "metadata": {
        "colab": {
          "base_uri": "https://localhost:8080/"
        },
        "id": "ejHbAtleNnrm",
        "outputId": "89aa2d2d-f221-4349-97bd-e478ce616516"
      },
      "execution_count": 54,
      "outputs": [
        {
          "output_type": "execute_result",
          "data": {
            "text/plain": [
              "tensor([[ 56.,  70.],\n",
              "        [ 81., 101.],\n",
              "        [119., 133.],\n",
              "        [ 22.,  37.],\n",
              "        [103., 119.]])"
            ]
          },
          "metadata": {},
          "execution_count": 54
        }
      ]
    },
    {
      "cell_type": "markdown",
      "source": [
        "## Linear Regression Model using PyTorch built-ins\n",
        "\n",
        "Let's re-implement the same model using some built-in functions and classes from PyTorch.\n",
        "\n",
        "\n",
        "\n",
        "## Dataset and DataLoader\n",
        "\n",
        "\n",
        "We'll create a TensorDataset, which allows access to rows from inputs and targets as tuples. We'll also create a DataLoader, to split the data into batches while training. It also provides other utilities like shuffling and sampling."
      ],
      "metadata": {
        "id": "zo-AgsPIN29t"
      }
    },
    {
      "cell_type": "code",
      "source": [
        "# Define dataset\n",
        "# Input (temp, rainfall, humidity)\n",
        "# Targets (apples, oranges)\n",
        "train_ds = TensorDataset(inputs, targets)\n",
        "train_ds[0:3]"
      ],
      "metadata": {
        "colab": {
          "base_uri": "https://localhost:8080/"
        },
        "id": "CS_pmn7oP8uo",
        "outputId": "d32484ae-d19a-4e35-c593-41cd51986e24"
      },
      "execution_count": 64,
      "outputs": [
        {
          "output_type": "execute_result",
          "data": {
            "text/plain": [
              "(tensor([[ 73.,  67.,  43.],\n",
              "         [ 91.,  88.,  64.],\n",
              "         [ 87., 134.,  58.]]),\n",
              " tensor([[ 56.,  70.],\n",
              "         [ 81., 101.],\n",
              "         [119., 133.]]))"
            ]
          },
          "metadata": {},
          "execution_count": 64
        }
      ]
    },
    {
      "cell_type": "code",
      "source": [
        "# Define data loader\n",
        "batch_size = 5\n",
        "train_dl = DataLoader(train_ds, batch_size, shuffle=True)"
      ],
      "metadata": {
        "id": "YqoMieTjQ3JK"
      },
      "execution_count": 65,
      "outputs": []
    },
    {
      "cell_type": "code",
      "source": [
        "next(iter(train_dl))"
      ],
      "metadata": {
        "colab": {
          "base_uri": "https://localhost:8080/"
        },
        "id": "nNKLDcn6Q7L6",
        "outputId": "e398e461-fc73-4b83-c4c9-d70645167257"
      },
      "execution_count": 67,
      "outputs": [
        {
          "output_type": "execute_result",
          "data": {
            "text/plain": [
              "[tensor([[ 87., 134.,  58.],\n",
              "         [102.,  43.,  37.],\n",
              "         [ 73.,  67.,  43.],\n",
              "         [ 91.,  88.,  64.],\n",
              "         [ 69.,  96.,  70.]]),\n",
              " tensor([[119., 133.],\n",
              "         [ 22.,  37.],\n",
              "         [ 56.,  70.],\n",
              "         [ 81., 101.],\n",
              "         [103., 119.]])]"
            ]
          },
          "metadata": {},
          "execution_count": 67
        }
      ]
    },
    {
      "cell_type": "markdown",
      "source": [
        "## nn.Linear\n",
        "\n",
        "Instead of initializing the weights & biases manually, we can define the model using nn.Linear"
      ],
      "metadata": {
        "id": "hGKsNU7vRT4H"
      }
    },
    {
      "cell_type": "code",
      "source": [
        "# Define model\n",
        "# Input (temp, rainfall, humidity)\n",
        "# Targets (apples, oranges)\n",
        "model = nn.Linear(3, 2)\n",
        "print(model.weight)\n",
        "print(model.bias)"
      ],
      "metadata": {
        "colab": {
          "base_uri": "https://localhost:8080/"
        },
        "id": "-RJs2MNpRWuH",
        "outputId": "8be9d488-2bfd-4e72-9505-192ae052a75c"
      },
      "execution_count": 68,
      "outputs": [
        {
          "output_type": "stream",
          "name": "stdout",
          "text": [
            "Parameter containing:\n",
            "tensor([[ 0.2826, -0.1453,  0.0996],\n",
            "        [ 0.0054, -0.3307,  0.4452]], requires_grad=True)\n",
            "Parameter containing:\n",
            "tensor([0.5446, 0.5321], requires_grad=True)\n"
          ]
        }
      ]
    },
    {
      "cell_type": "markdown",
      "source": [
        "## Optimizer\n",
        "\n",
        "Instead of manually manipulating the weights & biases using gradients, we can use the optimizer optim.SGD, where SGD stands for Stochastic Gradient Descent, a version of Gradient Descent using sample mean to replace population mean."
      ],
      "metadata": {
        "id": "MgdkJAYnTwFZ"
      }
    },
    {
      "cell_type": "code",
      "source": [
        "# Define optimizer\n",
        "opt = torch.optim.SGD(model.parameters(), lr=1e-5)"
      ],
      "metadata": {
        "id": "GiCFwBHmTxcI"
      },
      "execution_count": 69,
      "outputs": []
    },
    {
      "cell_type": "markdown",
      "source": [
        "## Loss Function\n",
        "\n",
        "Instead of defining a loss function manually, we can use the built-in loss function mse_loss."
      ],
      "metadata": {
        "id": "HzLpHpZoUFP-"
      }
    },
    {
      "cell_type": "code",
      "source": [
        "# Define loss function\n",
        "loss_fn = F.mse_loss"
      ],
      "metadata": {
        "id": "PPK80TnlUMZO"
      },
      "execution_count": 70,
      "outputs": []
    },
    {
      "cell_type": "code",
      "source": [
        "loss = loss_fn(model(inputs), targets)\n",
        "print(loss)"
      ],
      "metadata": {
        "colab": {
          "base_uri": "https://localhost:8080/"
        },
        "id": "Y-JwAg6lUdA9",
        "outputId": "0ce5f9ec-0ace-4d64-e295-c42ba85fbd0b"
      },
      "execution_count": 71,
      "outputs": [
        {
          "output_type": "stream",
          "name": "stdout",
          "text": [
            "tensor(7822.7764, grad_fn=<MseLossBackward0>)\n"
          ]
        }
      ]
    },
    {
      "cell_type": "markdown",
      "source": [
        "## Train the model\n",
        "\n",
        "We are ready to train the model now. We can define a utility function fit which trains the model for a given number of epochs."
      ],
      "metadata": {
        "id": "flCYudT6Ux8B"
      }
    },
    {
      "cell_type": "code",
      "source": [
        "# Define a utility function to train the model\n",
        "def fit(num_epochs, model, loss_fn, opt):\n",
        "    for epoch in range(num_epochs):\n",
        "        for xb,yb in train_dl:\n",
        "            # Generate predictions\n",
        "            pred = model(xb)\n",
        "            loss = loss_fn(pred, yb)\n",
        "            # Perform gradient descent\n",
        "            loss.backward()\n",
        "            opt.step()\n",
        "            opt.zero_grad()\n",
        "    print('Training loss: ', loss_fn(model(inputs), targets))"
      ],
      "metadata": {
        "id": "yHdIW1yQU0di"
      },
      "execution_count": 72,
      "outputs": []
    },
    {
      "cell_type": "code",
      "source": [
        "# Train the model for 100 epochs\n",
        "fit(1000, model, loss_fn, opt)"
      ],
      "metadata": {
        "colab": {
          "base_uri": "https://localhost:8080/"
        },
        "id": "bPZZ4c52VNCQ",
        "outputId": "68480210-e451-419f-c00b-a155e9e0fc99"
      },
      "execution_count": 79,
      "outputs": [
        {
          "output_type": "stream",
          "name": "stdout",
          "text": [
            "Training loss:  tensor(0.5335, grad_fn=<MseLossBackward0>)\n"
          ]
        }
      ]
    },
    {
      "cell_type": "code",
      "source": [
        "# Generate predictions\n",
        "preds = model(inputs)\n",
        "preds"
      ],
      "metadata": {
        "colab": {
          "base_uri": "https://localhost:8080/"
        },
        "id": "IZpK3-UJV5E8",
        "outputId": "21773a48-68e1-444d-cc96-10afc914d11a"
      },
      "execution_count": 80,
      "outputs": [
        {
          "output_type": "execute_result",
          "data": {
            "text/plain": [
              "tensor([[ 57.2561,  70.3980],\n",
              "        [ 82.1471, 100.6138],\n",
              "        [118.6845, 132.9453],\n",
              "        [ 21.0719,  37.0045],\n",
              "        [101.9287, 119.1508]], grad_fn=<AddmmBackward0>)"
            ]
          },
          "metadata": {},
          "execution_count": 80
        }
      ]
    },
    {
      "cell_type": "code",
      "source": [
        "# Compare with targets\n",
        "targets"
      ],
      "metadata": {
        "colab": {
          "base_uri": "https://localhost:8080/"
        },
        "id": "5X3LiIpTV9yV",
        "outputId": "4c9d2f6b-4ad7-4487-824f-643561e594b2"
      },
      "execution_count": 81,
      "outputs": [
        {
          "output_type": "execute_result",
          "data": {
            "text/plain": [
              "tensor([[ 56.,  70.],\n",
              "        [ 81., 101.],\n",
              "        [119., 133.],\n",
              "        [ 22.,  37.],\n",
              "        [103., 119.]])"
            ]
          },
          "metadata": {},
          "execution_count": 81
        }
      ]
    },
    {
      "cell_type": "markdown",
      "source": [
        "## Feedforward Neural Network\n",
        "\n",
        "Conceptually, you think of feedforward neural networks as two or more linear regression models stacked on top of one another with a non-linear activation function applied between them.\n",
        "\n",
        "\n",
        "\n",
        "To use a feedforward neural network instead of linear regression, we can extend the nn.Module class from PyTorch."
      ],
      "metadata": {
        "id": "_s2T-ppAWsfX"
      }
    },
    {
      "cell_type": "code",
      "source": [
        "class SimpleNet(nn.Module):\n",
        "    # Initialize the layers\n",
        "    def __init__(self):\n",
        "        super().__init__()\n",
        "        self.linear1 = nn.Linear(3, 5)\n",
        "        self.act1 = nn.ReLU() # Activation function\n",
        "        self.linear2 = nn.Linear(5, 2)\n",
        "\n",
        "    # Perform the computation\n",
        "    def forward(self, x):\n",
        "        x = self.linear1(x)\n",
        "        x = self.act1(x)\n",
        "        x = self.linear2(x)\n",
        "        return x"
      ],
      "metadata": {
        "id": "QzMovVXFW4Ru"
      },
      "execution_count": 101,
      "outputs": []
    },
    {
      "cell_type": "markdown",
      "source": [
        "Now we can define the model, optimizer and loss function exactly as before."
      ],
      "metadata": {
        "id": "8UrFhac3XaAj"
      }
    },
    {
      "cell_type": "code",
      "source": [
        "model = SimpleNet()\n",
        "opt = torch.optim.SGD(model.parameters(), 1e-5)\n",
        "loss_fn = F.mse_loss"
      ],
      "metadata": {
        "id": "46LqozEJXdZS"
      },
      "execution_count": 102,
      "outputs": []
    },
    {
      "cell_type": "code",
      "source": [
        "fit(10000, model, loss_fn, opt)"
      ],
      "metadata": {
        "colab": {
          "base_uri": "https://localhost:8080/"
        },
        "id": "Or5OETB8Xm5z",
        "outputId": "2cb7ac9e-aa25-4376-c516-78e4cc1c1f49"
      },
      "execution_count": 103,
      "outputs": [
        {
          "output_type": "stream",
          "name": "stdout",
          "text": [
            "Training loss:  tensor(0.5637, grad_fn=<MseLossBackward0>)\n"
          ]
        }
      ]
    },
    {
      "cell_type": "code",
      "source": [
        "# Generate predictions\n",
        "preds = model(inputs)\n",
        "preds"
      ],
      "metadata": {
        "colab": {
          "base_uri": "https://localhost:8080/"
        },
        "id": "bEGmcYDjXv2I",
        "outputId": "31fdde06-4511-402f-ad90-f6cb49380de3"
      },
      "execution_count": 104,
      "outputs": [
        {
          "output_type": "execute_result",
          "data": {
            "text/plain": [
              "tensor([[ 57.3139,  70.2529],\n",
              "        [ 82.0818, 100.7428],\n",
              "        [118.8832, 132.7738],\n",
              "        [ 21.1193,  36.9689],\n",
              "        [101.7122, 119.3321]], grad_fn=<AddmmBackward0>)"
            ]
          },
          "metadata": {},
          "execution_count": 104
        }
      ]
    },
    {
      "cell_type": "markdown",
      "source": [
        "## Boston Housing Data\n",
        "\n",
        "\n",
        "\n",
        "CRIM per capita crime rate by town\n",
        "\n",
        "ZN proportion of residential land zoned for lots over 25,000 sq.ft.\n",
        "\n",
        "INDUS proportion of non-retail business acres per town\n",
        "\n",
        "CHAS Charles River dummy variable (= 1 if tract bounds river; 0 otherwise)\n",
        "\n",
        "NOX nitric oxides concentration (parts per 10 million)\n",
        "\n",
        "RM average number of rooms per dwelling\n",
        "\n",
        "AGE proportion of owner-occupied units built prior to 1940\n",
        "\n",
        "DIS weighted distances to five Boston employment centres\n",
        "\n",
        "RAD index of accessibility to radial highways\n",
        "\n",
        "TAX full-value property-tax rate per $10,000\n",
        "\n",
        "PTRATIO pupil-teacher ratio by town\n",
        "\n",
        "B 1000(Bk – 0.63)^2 where Bk is the proportion of blacks by town\n",
        "\n",
        "LSTAT % lower status of the population\n",
        "\n",
        "MEDV Median value of owner-occupied homes in $1000’s\n",
        "\n",
        "\n",
        "\n",
        "MEDV is the median value and hence the **target variable**."
      ],
      "metadata": {
        "id": "lCTkYcbSYXL8"
      }
    },
    {
      "cell_type": "code",
      "source": [
        "cd /content/drive/MyDrive/"
      ],
      "metadata": {
        "colab": {
          "base_uri": "https://localhost:8080/"
        },
        "id": "D8VlsxoWaUfI",
        "outputId": "6e5378c4-dfa3-4348-8cd8-bce335f1c0b7"
      },
      "execution_count": 108,
      "outputs": [
        {
          "output_type": "stream",
          "name": "stdout",
          "text": [
            "/content/drive/MyDrive/\n"
          ]
        }
      ]
    },
    {
      "cell_type": "code",
      "source": [
        "BH = pd.read_csv('BostonHousing.csv')\n",
        "BH.tail()"
      ],
      "metadata": {
        "colab": {
          "base_uri": "https://localhost:8080/",
          "height": 206
        },
        "id": "fZdqSFza5m3m",
        "outputId": "4f3d3e24-2939-4a43-e83e-9f914effd59a"
      },
      "execution_count": 109,
      "outputs": [
        {
          "output_type": "execute_result",
          "data": {
            "text/plain": [
              "        crim   zn  indus  chas    nox     rm   age     dis  rad  tax  ptratio  \\\n",
              "501  0.06263  0.0  11.93     0  0.573  6.593  69.1  2.4786    1  273     21.0   \n",
              "502  0.04527  0.0  11.93     0  0.573  6.120  76.7  2.2875    1  273     21.0   \n",
              "503  0.06076  0.0  11.93     0  0.573  6.976  91.0  2.1675    1  273     21.0   \n",
              "504  0.10959  0.0  11.93     0  0.573  6.794  89.3  2.3889    1  273     21.0   \n",
              "505  0.04741  0.0  11.93     0  0.573  6.030  80.8  2.5050    1  273     21.0   \n",
              "\n",
              "          b  lstat  medv  \n",
              "501  391.99   9.67  22.4  \n",
              "502  396.90   9.08  20.6  \n",
              "503  396.90   5.64  23.9  \n",
              "504  393.45   6.48  22.0  \n",
              "505  396.90   7.88  11.9  "
            ],
            "text/html": [
              "\n",
              "  <div id=\"df-049ce36b-96cf-4dfc-83f0-fc184678d22f\" class=\"colab-df-container\">\n",
              "    <div>\n",
              "<style scoped>\n",
              "    .dataframe tbody tr th:only-of-type {\n",
              "        vertical-align: middle;\n",
              "    }\n",
              "\n",
              "    .dataframe tbody tr th {\n",
              "        vertical-align: top;\n",
              "    }\n",
              "\n",
              "    .dataframe thead th {\n",
              "        text-align: right;\n",
              "    }\n",
              "</style>\n",
              "<table border=\"1\" class=\"dataframe\">\n",
              "  <thead>\n",
              "    <tr style=\"text-align: right;\">\n",
              "      <th></th>\n",
              "      <th>crim</th>\n",
              "      <th>zn</th>\n",
              "      <th>indus</th>\n",
              "      <th>chas</th>\n",
              "      <th>nox</th>\n",
              "      <th>rm</th>\n",
              "      <th>age</th>\n",
              "      <th>dis</th>\n",
              "      <th>rad</th>\n",
              "      <th>tax</th>\n",
              "      <th>ptratio</th>\n",
              "      <th>b</th>\n",
              "      <th>lstat</th>\n",
              "      <th>medv</th>\n",
              "    </tr>\n",
              "  </thead>\n",
              "  <tbody>\n",
              "    <tr>\n",
              "      <th>501</th>\n",
              "      <td>0.06263</td>\n",
              "      <td>0.0</td>\n",
              "      <td>11.93</td>\n",
              "      <td>0</td>\n",
              "      <td>0.573</td>\n",
              "      <td>6.593</td>\n",
              "      <td>69.1</td>\n",
              "      <td>2.4786</td>\n",
              "      <td>1</td>\n",
              "      <td>273</td>\n",
              "      <td>21.0</td>\n",
              "      <td>391.99</td>\n",
              "      <td>9.67</td>\n",
              "      <td>22.4</td>\n",
              "    </tr>\n",
              "    <tr>\n",
              "      <th>502</th>\n",
              "      <td>0.04527</td>\n",
              "      <td>0.0</td>\n",
              "      <td>11.93</td>\n",
              "      <td>0</td>\n",
              "      <td>0.573</td>\n",
              "      <td>6.120</td>\n",
              "      <td>76.7</td>\n",
              "      <td>2.2875</td>\n",
              "      <td>1</td>\n",
              "      <td>273</td>\n",
              "      <td>21.0</td>\n",
              "      <td>396.90</td>\n",
              "      <td>9.08</td>\n",
              "      <td>20.6</td>\n",
              "    </tr>\n",
              "    <tr>\n",
              "      <th>503</th>\n",
              "      <td>0.06076</td>\n",
              "      <td>0.0</td>\n",
              "      <td>11.93</td>\n",
              "      <td>0</td>\n",
              "      <td>0.573</td>\n",
              "      <td>6.976</td>\n",
              "      <td>91.0</td>\n",
              "      <td>2.1675</td>\n",
              "      <td>1</td>\n",
              "      <td>273</td>\n",
              "      <td>21.0</td>\n",
              "      <td>396.90</td>\n",
              "      <td>5.64</td>\n",
              "      <td>23.9</td>\n",
              "    </tr>\n",
              "    <tr>\n",
              "      <th>504</th>\n",
              "      <td>0.10959</td>\n",
              "      <td>0.0</td>\n",
              "      <td>11.93</td>\n",
              "      <td>0</td>\n",
              "      <td>0.573</td>\n",
              "      <td>6.794</td>\n",
              "      <td>89.3</td>\n",
              "      <td>2.3889</td>\n",
              "      <td>1</td>\n",
              "      <td>273</td>\n",
              "      <td>21.0</td>\n",
              "      <td>393.45</td>\n",
              "      <td>6.48</td>\n",
              "      <td>22.0</td>\n",
              "    </tr>\n",
              "    <tr>\n",
              "      <th>505</th>\n",
              "      <td>0.04741</td>\n",
              "      <td>0.0</td>\n",
              "      <td>11.93</td>\n",
              "      <td>0</td>\n",
              "      <td>0.573</td>\n",
              "      <td>6.030</td>\n",
              "      <td>80.8</td>\n",
              "      <td>2.5050</td>\n",
              "      <td>1</td>\n",
              "      <td>273</td>\n",
              "      <td>21.0</td>\n",
              "      <td>396.90</td>\n",
              "      <td>7.88</td>\n",
              "      <td>11.9</td>\n",
              "    </tr>\n",
              "  </tbody>\n",
              "</table>\n",
              "</div>\n",
              "    <div class=\"colab-df-buttons\">\n",
              "\n",
              "  <div class=\"colab-df-container\">\n",
              "    <button class=\"colab-df-convert\" onclick=\"convertToInteractive('df-049ce36b-96cf-4dfc-83f0-fc184678d22f')\"\n",
              "            title=\"Convert this dataframe to an interactive table.\"\n",
              "            style=\"display:none;\">\n",
              "\n",
              "  <svg xmlns=\"http://www.w3.org/2000/svg\" height=\"24px\" viewBox=\"0 -960 960 960\">\n",
              "    <path d=\"M120-120v-720h720v720H120Zm60-500h600v-160H180v160Zm220 220h160v-160H400v160Zm0 220h160v-160H400v160ZM180-400h160v-160H180v160Zm440 0h160v-160H620v160ZM180-180h160v-160H180v160Zm440 0h160v-160H620v160Z\"/>\n",
              "  </svg>\n",
              "    </button>\n",
              "\n",
              "  <style>\n",
              "    .colab-df-container {\n",
              "      display:flex;\n",
              "      gap: 12px;\n",
              "    }\n",
              "\n",
              "    .colab-df-convert {\n",
              "      background-color: #E8F0FE;\n",
              "      border: none;\n",
              "      border-radius: 50%;\n",
              "      cursor: pointer;\n",
              "      display: none;\n",
              "      fill: #1967D2;\n",
              "      height: 32px;\n",
              "      padding: 0 0 0 0;\n",
              "      width: 32px;\n",
              "    }\n",
              "\n",
              "    .colab-df-convert:hover {\n",
              "      background-color: #E2EBFA;\n",
              "      box-shadow: 0px 1px 2px rgba(60, 64, 67, 0.3), 0px 1px 3px 1px rgba(60, 64, 67, 0.15);\n",
              "      fill: #174EA6;\n",
              "    }\n",
              "\n",
              "    .colab-df-buttons div {\n",
              "      margin-bottom: 4px;\n",
              "    }\n",
              "\n",
              "    [theme=dark] .colab-df-convert {\n",
              "      background-color: #3B4455;\n",
              "      fill: #D2E3FC;\n",
              "    }\n",
              "\n",
              "    [theme=dark] .colab-df-convert:hover {\n",
              "      background-color: #434B5C;\n",
              "      box-shadow: 0px 1px 3px 1px rgba(0, 0, 0, 0.15);\n",
              "      filter: drop-shadow(0px 1px 2px rgba(0, 0, 0, 0.3));\n",
              "      fill: #FFFFFF;\n",
              "    }\n",
              "  </style>\n",
              "\n",
              "    <script>\n",
              "      const buttonEl =\n",
              "        document.querySelector('#df-049ce36b-96cf-4dfc-83f0-fc184678d22f button.colab-df-convert');\n",
              "      buttonEl.style.display =\n",
              "        google.colab.kernel.accessAllowed ? 'block' : 'none';\n",
              "\n",
              "      async function convertToInteractive(key) {\n",
              "        const element = document.querySelector('#df-049ce36b-96cf-4dfc-83f0-fc184678d22f');\n",
              "        const dataTable =\n",
              "          await google.colab.kernel.invokeFunction('convertToInteractive',\n",
              "                                                    [key], {});\n",
              "        if (!dataTable) return;\n",
              "\n",
              "        const docLinkHtml = 'Like what you see? Visit the ' +\n",
              "          '<a target=\"_blank\" href=https://colab.research.google.com/notebooks/data_table.ipynb>data table notebook</a>'\n",
              "          + ' to learn more about interactive tables.';\n",
              "        element.innerHTML = '';\n",
              "        dataTable['output_type'] = 'display_data';\n",
              "        await google.colab.output.renderOutput(dataTable, element);\n",
              "        const docLink = document.createElement('div');\n",
              "        docLink.innerHTML = docLinkHtml;\n",
              "        element.appendChild(docLink);\n",
              "      }\n",
              "    </script>\n",
              "  </div>\n",
              "\n",
              "\n",
              "<div id=\"df-18fe4bb7-b81f-4f27-8153-191b9268f176\">\n",
              "  <button class=\"colab-df-quickchart\" onclick=\"quickchart('df-18fe4bb7-b81f-4f27-8153-191b9268f176')\"\n",
              "            title=\"Suggest charts\"\n",
              "            style=\"display:none;\">\n",
              "\n",
              "<svg xmlns=\"http://www.w3.org/2000/svg\" height=\"24px\"viewBox=\"0 0 24 24\"\n",
              "     width=\"24px\">\n",
              "    <g>\n",
              "        <path d=\"M19 3H5c-1.1 0-2 .9-2 2v14c0 1.1.9 2 2 2h14c1.1 0 2-.9 2-2V5c0-1.1-.9-2-2-2zM9 17H7v-7h2v7zm4 0h-2V7h2v10zm4 0h-2v-4h2v4z\"/>\n",
              "    </g>\n",
              "</svg>\n",
              "  </button>\n",
              "\n",
              "<style>\n",
              "  .colab-df-quickchart {\n",
              "      --bg-color: #E8F0FE;\n",
              "      --fill-color: #1967D2;\n",
              "      --hover-bg-color: #E2EBFA;\n",
              "      --hover-fill-color: #174EA6;\n",
              "      --disabled-fill-color: #AAA;\n",
              "      --disabled-bg-color: #DDD;\n",
              "  }\n",
              "\n",
              "  [theme=dark] .colab-df-quickchart {\n",
              "      --bg-color: #3B4455;\n",
              "      --fill-color: #D2E3FC;\n",
              "      --hover-bg-color: #434B5C;\n",
              "      --hover-fill-color: #FFFFFF;\n",
              "      --disabled-bg-color: #3B4455;\n",
              "      --disabled-fill-color: #666;\n",
              "  }\n",
              "\n",
              "  .colab-df-quickchart {\n",
              "    background-color: var(--bg-color);\n",
              "    border: none;\n",
              "    border-radius: 50%;\n",
              "    cursor: pointer;\n",
              "    display: none;\n",
              "    fill: var(--fill-color);\n",
              "    height: 32px;\n",
              "    padding: 0;\n",
              "    width: 32px;\n",
              "  }\n",
              "\n",
              "  .colab-df-quickchart:hover {\n",
              "    background-color: var(--hover-bg-color);\n",
              "    box-shadow: 0 1px 2px rgba(60, 64, 67, 0.3), 0 1px 3px 1px rgba(60, 64, 67, 0.15);\n",
              "    fill: var(--button-hover-fill-color);\n",
              "  }\n",
              "\n",
              "  .colab-df-quickchart-complete:disabled,\n",
              "  .colab-df-quickchart-complete:disabled:hover {\n",
              "    background-color: var(--disabled-bg-color);\n",
              "    fill: var(--disabled-fill-color);\n",
              "    box-shadow: none;\n",
              "  }\n",
              "\n",
              "  .colab-df-spinner {\n",
              "    border: 2px solid var(--fill-color);\n",
              "    border-color: transparent;\n",
              "    border-bottom-color: var(--fill-color);\n",
              "    animation:\n",
              "      spin 1s steps(1) infinite;\n",
              "  }\n",
              "\n",
              "  @keyframes spin {\n",
              "    0% {\n",
              "      border-color: transparent;\n",
              "      border-bottom-color: var(--fill-color);\n",
              "      border-left-color: var(--fill-color);\n",
              "    }\n",
              "    20% {\n",
              "      border-color: transparent;\n",
              "      border-left-color: var(--fill-color);\n",
              "      border-top-color: var(--fill-color);\n",
              "    }\n",
              "    30% {\n",
              "      border-color: transparent;\n",
              "      border-left-color: var(--fill-color);\n",
              "      border-top-color: var(--fill-color);\n",
              "      border-right-color: var(--fill-color);\n",
              "    }\n",
              "    40% {\n",
              "      border-color: transparent;\n",
              "      border-right-color: var(--fill-color);\n",
              "      border-top-color: var(--fill-color);\n",
              "    }\n",
              "    60% {\n",
              "      border-color: transparent;\n",
              "      border-right-color: var(--fill-color);\n",
              "    }\n",
              "    80% {\n",
              "      border-color: transparent;\n",
              "      border-right-color: var(--fill-color);\n",
              "      border-bottom-color: var(--fill-color);\n",
              "    }\n",
              "    90% {\n",
              "      border-color: transparent;\n",
              "      border-bottom-color: var(--fill-color);\n",
              "    }\n",
              "  }\n",
              "</style>\n",
              "\n",
              "  <script>\n",
              "    async function quickchart(key) {\n",
              "      const quickchartButtonEl =\n",
              "        document.querySelector('#' + key + ' button');\n",
              "      quickchartButtonEl.disabled = true;  // To prevent multiple clicks.\n",
              "      quickchartButtonEl.classList.add('colab-df-spinner');\n",
              "      try {\n",
              "        const charts = await google.colab.kernel.invokeFunction(\n",
              "            'suggestCharts', [key], {});\n",
              "      } catch (error) {\n",
              "        console.error('Error during call to suggestCharts:', error);\n",
              "      }\n",
              "      quickchartButtonEl.classList.remove('colab-df-spinner');\n",
              "      quickchartButtonEl.classList.add('colab-df-quickchart-complete');\n",
              "    }\n",
              "    (() => {\n",
              "      let quickchartButtonEl =\n",
              "        document.querySelector('#df-18fe4bb7-b81f-4f27-8153-191b9268f176 button');\n",
              "      quickchartButtonEl.style.display =\n",
              "        google.colab.kernel.accessAllowed ? 'block' : 'none';\n",
              "    })();\n",
              "  </script>\n",
              "</div>\n",
              "    </div>\n",
              "  </div>\n"
            ]
          },
          "metadata": {},
          "execution_count": 109
        }
      ]
    },
    {
      "cell_type": "code",
      "source": [
        "train_df,test_df,train_idx,test_idx = train_test_split(BH,r=0.7)"
      ],
      "metadata": {
        "id": "eFpGx1uLYfRz"
      },
      "execution_count": 112,
      "outputs": []
    },
    {
      "cell_type": "code",
      "source": [
        "#Turn rad into dummy variables\n",
        "rad_ind = pd.get_dummies(BH.rad,prefix='rad')\n",
        "rad_ind.tail()"
      ],
      "metadata": {
        "colab": {
          "base_uri": "https://localhost:8080/",
          "height": 206
        },
        "id": "beBeElYyb96P",
        "outputId": "7a5d0839-9500-4964-97a0-d6c938615a99"
      },
      "execution_count": 113,
      "outputs": [
        {
          "output_type": "execute_result",
          "data": {
            "text/plain": [
              "     rad_1  rad_2  rad_3  rad_4  rad_5  rad_6  rad_7  rad_8  rad_24\n",
              "501      1      0      0      0      0      0      0      0       0\n",
              "502      1      0      0      0      0      0      0      0       0\n",
              "503      1      0      0      0      0      0      0      0       0\n",
              "504      1      0      0      0      0      0      0      0       0\n",
              "505      1      0      0      0      0      0      0      0       0"
            ],
            "text/html": [
              "\n",
              "  <div id=\"df-f3f2a681-14b7-4ec4-9409-f910ba7eea8d\" class=\"colab-df-container\">\n",
              "    <div>\n",
              "<style scoped>\n",
              "    .dataframe tbody tr th:only-of-type {\n",
              "        vertical-align: middle;\n",
              "    }\n",
              "\n",
              "    .dataframe tbody tr th {\n",
              "        vertical-align: top;\n",
              "    }\n",
              "\n",
              "    .dataframe thead th {\n",
              "        text-align: right;\n",
              "    }\n",
              "</style>\n",
              "<table border=\"1\" class=\"dataframe\">\n",
              "  <thead>\n",
              "    <tr style=\"text-align: right;\">\n",
              "      <th></th>\n",
              "      <th>rad_1</th>\n",
              "      <th>rad_2</th>\n",
              "      <th>rad_3</th>\n",
              "      <th>rad_4</th>\n",
              "      <th>rad_5</th>\n",
              "      <th>rad_6</th>\n",
              "      <th>rad_7</th>\n",
              "      <th>rad_8</th>\n",
              "      <th>rad_24</th>\n",
              "    </tr>\n",
              "  </thead>\n",
              "  <tbody>\n",
              "    <tr>\n",
              "      <th>501</th>\n",
              "      <td>1</td>\n",
              "      <td>0</td>\n",
              "      <td>0</td>\n",
              "      <td>0</td>\n",
              "      <td>0</td>\n",
              "      <td>0</td>\n",
              "      <td>0</td>\n",
              "      <td>0</td>\n",
              "      <td>0</td>\n",
              "    </tr>\n",
              "    <tr>\n",
              "      <th>502</th>\n",
              "      <td>1</td>\n",
              "      <td>0</td>\n",
              "      <td>0</td>\n",
              "      <td>0</td>\n",
              "      <td>0</td>\n",
              "      <td>0</td>\n",
              "      <td>0</td>\n",
              "      <td>0</td>\n",
              "      <td>0</td>\n",
              "    </tr>\n",
              "    <tr>\n",
              "      <th>503</th>\n",
              "      <td>1</td>\n",
              "      <td>0</td>\n",
              "      <td>0</td>\n",
              "      <td>0</td>\n",
              "      <td>0</td>\n",
              "      <td>0</td>\n",
              "      <td>0</td>\n",
              "      <td>0</td>\n",
              "      <td>0</td>\n",
              "    </tr>\n",
              "    <tr>\n",
              "      <th>504</th>\n",
              "      <td>1</td>\n",
              "      <td>0</td>\n",
              "      <td>0</td>\n",
              "      <td>0</td>\n",
              "      <td>0</td>\n",
              "      <td>0</td>\n",
              "      <td>0</td>\n",
              "      <td>0</td>\n",
              "      <td>0</td>\n",
              "    </tr>\n",
              "    <tr>\n",
              "      <th>505</th>\n",
              "      <td>1</td>\n",
              "      <td>0</td>\n",
              "      <td>0</td>\n",
              "      <td>0</td>\n",
              "      <td>0</td>\n",
              "      <td>0</td>\n",
              "      <td>0</td>\n",
              "      <td>0</td>\n",
              "      <td>0</td>\n",
              "    </tr>\n",
              "  </tbody>\n",
              "</table>\n",
              "</div>\n",
              "    <div class=\"colab-df-buttons\">\n",
              "\n",
              "  <div class=\"colab-df-container\">\n",
              "    <button class=\"colab-df-convert\" onclick=\"convertToInteractive('df-f3f2a681-14b7-4ec4-9409-f910ba7eea8d')\"\n",
              "            title=\"Convert this dataframe to an interactive table.\"\n",
              "            style=\"display:none;\">\n",
              "\n",
              "  <svg xmlns=\"http://www.w3.org/2000/svg\" height=\"24px\" viewBox=\"0 -960 960 960\">\n",
              "    <path d=\"M120-120v-720h720v720H120Zm60-500h600v-160H180v160Zm220 220h160v-160H400v160Zm0 220h160v-160H400v160ZM180-400h160v-160H180v160Zm440 0h160v-160H620v160ZM180-180h160v-160H180v160Zm440 0h160v-160H620v160Z\"/>\n",
              "  </svg>\n",
              "    </button>\n",
              "\n",
              "  <style>\n",
              "    .colab-df-container {\n",
              "      display:flex;\n",
              "      gap: 12px;\n",
              "    }\n",
              "\n",
              "    .colab-df-convert {\n",
              "      background-color: #E8F0FE;\n",
              "      border: none;\n",
              "      border-radius: 50%;\n",
              "      cursor: pointer;\n",
              "      display: none;\n",
              "      fill: #1967D2;\n",
              "      height: 32px;\n",
              "      padding: 0 0 0 0;\n",
              "      width: 32px;\n",
              "    }\n",
              "\n",
              "    .colab-df-convert:hover {\n",
              "      background-color: #E2EBFA;\n",
              "      box-shadow: 0px 1px 2px rgba(60, 64, 67, 0.3), 0px 1px 3px 1px rgba(60, 64, 67, 0.15);\n",
              "      fill: #174EA6;\n",
              "    }\n",
              "\n",
              "    .colab-df-buttons div {\n",
              "      margin-bottom: 4px;\n",
              "    }\n",
              "\n",
              "    [theme=dark] .colab-df-convert {\n",
              "      background-color: #3B4455;\n",
              "      fill: #D2E3FC;\n",
              "    }\n",
              "\n",
              "    [theme=dark] .colab-df-convert:hover {\n",
              "      background-color: #434B5C;\n",
              "      box-shadow: 0px 1px 3px 1px rgba(0, 0, 0, 0.15);\n",
              "      filter: drop-shadow(0px 1px 2px rgba(0, 0, 0, 0.3));\n",
              "      fill: #FFFFFF;\n",
              "    }\n",
              "  </style>\n",
              "\n",
              "    <script>\n",
              "      const buttonEl =\n",
              "        document.querySelector('#df-f3f2a681-14b7-4ec4-9409-f910ba7eea8d button.colab-df-convert');\n",
              "      buttonEl.style.display =\n",
              "        google.colab.kernel.accessAllowed ? 'block' : 'none';\n",
              "\n",
              "      async function convertToInteractive(key) {\n",
              "        const element = document.querySelector('#df-f3f2a681-14b7-4ec4-9409-f910ba7eea8d');\n",
              "        const dataTable =\n",
              "          await google.colab.kernel.invokeFunction('convertToInteractive',\n",
              "                                                    [key], {});\n",
              "        if (!dataTable) return;\n",
              "\n",
              "        const docLinkHtml = 'Like what you see? Visit the ' +\n",
              "          '<a target=\"_blank\" href=https://colab.research.google.com/notebooks/data_table.ipynb>data table notebook</a>'\n",
              "          + ' to learn more about interactive tables.';\n",
              "        element.innerHTML = '';\n",
              "        dataTable['output_type'] = 'display_data';\n",
              "        await google.colab.output.renderOutput(dataTable, element);\n",
              "        const docLink = document.createElement('div');\n",
              "        docLink.innerHTML = docLinkHtml;\n",
              "        element.appendChild(docLink);\n",
              "      }\n",
              "    </script>\n",
              "  </div>\n",
              "\n",
              "\n",
              "<div id=\"df-4463b1c3-bc8c-4690-8b23-ee197bb7d985\">\n",
              "  <button class=\"colab-df-quickchart\" onclick=\"quickchart('df-4463b1c3-bc8c-4690-8b23-ee197bb7d985')\"\n",
              "            title=\"Suggest charts\"\n",
              "            style=\"display:none;\">\n",
              "\n",
              "<svg xmlns=\"http://www.w3.org/2000/svg\" height=\"24px\"viewBox=\"0 0 24 24\"\n",
              "     width=\"24px\">\n",
              "    <g>\n",
              "        <path d=\"M19 3H5c-1.1 0-2 .9-2 2v14c0 1.1.9 2 2 2h14c1.1 0 2-.9 2-2V5c0-1.1-.9-2-2-2zM9 17H7v-7h2v7zm4 0h-2V7h2v10zm4 0h-2v-4h2v4z\"/>\n",
              "    </g>\n",
              "</svg>\n",
              "  </button>\n",
              "\n",
              "<style>\n",
              "  .colab-df-quickchart {\n",
              "      --bg-color: #E8F0FE;\n",
              "      --fill-color: #1967D2;\n",
              "      --hover-bg-color: #E2EBFA;\n",
              "      --hover-fill-color: #174EA6;\n",
              "      --disabled-fill-color: #AAA;\n",
              "      --disabled-bg-color: #DDD;\n",
              "  }\n",
              "\n",
              "  [theme=dark] .colab-df-quickchart {\n",
              "      --bg-color: #3B4455;\n",
              "      --fill-color: #D2E3FC;\n",
              "      --hover-bg-color: #434B5C;\n",
              "      --hover-fill-color: #FFFFFF;\n",
              "      --disabled-bg-color: #3B4455;\n",
              "      --disabled-fill-color: #666;\n",
              "  }\n",
              "\n",
              "  .colab-df-quickchart {\n",
              "    background-color: var(--bg-color);\n",
              "    border: none;\n",
              "    border-radius: 50%;\n",
              "    cursor: pointer;\n",
              "    display: none;\n",
              "    fill: var(--fill-color);\n",
              "    height: 32px;\n",
              "    padding: 0;\n",
              "    width: 32px;\n",
              "  }\n",
              "\n",
              "  .colab-df-quickchart:hover {\n",
              "    background-color: var(--hover-bg-color);\n",
              "    box-shadow: 0 1px 2px rgba(60, 64, 67, 0.3), 0 1px 3px 1px rgba(60, 64, 67, 0.15);\n",
              "    fill: var(--button-hover-fill-color);\n",
              "  }\n",
              "\n",
              "  .colab-df-quickchart-complete:disabled,\n",
              "  .colab-df-quickchart-complete:disabled:hover {\n",
              "    background-color: var(--disabled-bg-color);\n",
              "    fill: var(--disabled-fill-color);\n",
              "    box-shadow: none;\n",
              "  }\n",
              "\n",
              "  .colab-df-spinner {\n",
              "    border: 2px solid var(--fill-color);\n",
              "    border-color: transparent;\n",
              "    border-bottom-color: var(--fill-color);\n",
              "    animation:\n",
              "      spin 1s steps(1) infinite;\n",
              "  }\n",
              "\n",
              "  @keyframes spin {\n",
              "    0% {\n",
              "      border-color: transparent;\n",
              "      border-bottom-color: var(--fill-color);\n",
              "      border-left-color: var(--fill-color);\n",
              "    }\n",
              "    20% {\n",
              "      border-color: transparent;\n",
              "      border-left-color: var(--fill-color);\n",
              "      border-top-color: var(--fill-color);\n",
              "    }\n",
              "    30% {\n",
              "      border-color: transparent;\n",
              "      border-left-color: var(--fill-color);\n",
              "      border-top-color: var(--fill-color);\n",
              "      border-right-color: var(--fill-color);\n",
              "    }\n",
              "    40% {\n",
              "      border-color: transparent;\n",
              "      border-right-color: var(--fill-color);\n",
              "      border-top-color: var(--fill-color);\n",
              "    }\n",
              "    60% {\n",
              "      border-color: transparent;\n",
              "      border-right-color: var(--fill-color);\n",
              "    }\n",
              "    80% {\n",
              "      border-color: transparent;\n",
              "      border-right-color: var(--fill-color);\n",
              "      border-bottom-color: var(--fill-color);\n",
              "    }\n",
              "    90% {\n",
              "      border-color: transparent;\n",
              "      border-bottom-color: var(--fill-color);\n",
              "    }\n",
              "  }\n",
              "</style>\n",
              "\n",
              "  <script>\n",
              "    async function quickchart(key) {\n",
              "      const quickchartButtonEl =\n",
              "        document.querySelector('#' + key + ' button');\n",
              "      quickchartButtonEl.disabled = true;  // To prevent multiple clicks.\n",
              "      quickchartButtonEl.classList.add('colab-df-spinner');\n",
              "      try {\n",
              "        const charts = await google.colab.kernel.invokeFunction(\n",
              "            'suggestCharts', [key], {});\n",
              "      } catch (error) {\n",
              "        console.error('Error during call to suggestCharts:', error);\n",
              "      }\n",
              "      quickchartButtonEl.classList.remove('colab-df-spinner');\n",
              "      quickchartButtonEl.classList.add('colab-df-quickchart-complete');\n",
              "    }\n",
              "    (() => {\n",
              "      let quickchartButtonEl =\n",
              "        document.querySelector('#df-4463b1c3-bc8c-4690-8b23-ee197bb7d985 button');\n",
              "      quickchartButtonEl.style.display =\n",
              "        google.colab.kernel.accessAllowed ? 'block' : 'none';\n",
              "    })();\n",
              "  </script>\n",
              "</div>\n",
              "    </div>\n",
              "  </div>\n"
            ]
          },
          "metadata": {},
          "execution_count": 113
        }
      ]
    },
    {
      "cell_type": "code",
      "source": [
        "#Standardizes all numerical variables\n",
        "scaler = StandardScaler()\n",
        "X = scaler.fit_transform(BH[['crim','zn','indus','nox','rm','age','dis','tax','ptratio','b','lstat']].values)"
      ],
      "metadata": {
        "id": "2G0Cvw92cngy"
      },
      "execution_count": 114,
      "outputs": []
    },
    {
      "cell_type": "code",
      "source": [
        "#column bind standardized numerical variables and the dummy variables\n",
        "X = np.column_stack((X,rad_ind,BH.chas))"
      ],
      "metadata": {
        "id": "e17d9W05c0cy"
      },
      "execution_count": 115,
      "outputs": []
    },
    {
      "cell_type": "code",
      "source": [
        "X.shape"
      ],
      "metadata": {
        "colab": {
          "base_uri": "https://localhost:8080/"
        },
        "id": "99t2Df7zc9eJ",
        "outputId": "9d180305-5433-4a9e-dfd5-c671f582f711"
      },
      "execution_count": 116,
      "outputs": [
        {
          "output_type": "execute_result",
          "data": {
            "text/plain": [
              "(506, 21)"
            ]
          },
          "metadata": {},
          "execution_count": 116
        }
      ]
    },
    {
      "cell_type": "code",
      "source": [
        "#target variable\n",
        "Y = BH.medv.values"
      ],
      "metadata": {
        "id": "F0L6ELWrdBAo"
      },
      "execution_count": 117,
      "outputs": []
    },
    {
      "cell_type": "code",
      "source": [
        "Y = np.array([[y] for y in Y])\n",
        "Y.shape"
      ],
      "metadata": {
        "colab": {
          "base_uri": "https://localhost:8080/"
        },
        "id": "_hkBv0AXdJLY",
        "outputId": "0256ef43-2af0-47d6-bed7-44d0c2b679ec"
      },
      "execution_count": 118,
      "outputs": [
        {
          "output_type": "execute_result",
          "data": {
            "text/plain": [
              "(506, 1)"
            ]
          },
          "metadata": {},
          "execution_count": 118
        }
      ]
    },
    {
      "cell_type": "code",
      "source": [
        "X_train = X[train_idx].astype(np.float32)\n",
        "X_test = X[test_idx].astype(np.float32)\n",
        "Y_train = Y[train_idx].astype(np.float32)\n",
        "Y_test = Y[test_idx].astype(np.float32)"
      ],
      "metadata": {
        "id": "lOsmpd41dMrg"
      },
      "execution_count": 119,
      "outputs": []
    },
    {
      "cell_type": "code",
      "source": [
        "inputs = torch.from_numpy(X_train)\n",
        "targets = torch.from_numpy(Y_train)"
      ],
      "metadata": {
        "id": "mZ6VQBeYdRYu"
      },
      "execution_count": 120,
      "outputs": []
    },
    {
      "cell_type": "code",
      "source": [
        "train_ds = TensorDataset(inputs, targets)"
      ],
      "metadata": {
        "id": "-jU9T-DAdVa-"
      },
      "execution_count": 121,
      "outputs": []
    },
    {
      "cell_type": "code",
      "source": [
        "batch_size = 50\n",
        "train_dl = DataLoader(train_ds, batch_size, shuffle=True)"
      ],
      "metadata": {
        "id": "aasFrr7sdZHE"
      },
      "execution_count": 128,
      "outputs": []
    },
    {
      "cell_type": "code",
      "source": [
        "class BH_Net(nn.Module):\n",
        "    # Initialize the layers\n",
        "    def __init__(self):\n",
        "        super().__init__()\n",
        "        self.layer_stack = nn.Sequential(\n",
        "            nn.Linear(21,64),\n",
        "            nn.ReLU(),\n",
        "            nn.Linear(64,32),\n",
        "            nn.ReLU(),\n",
        "            nn.Linear(32,1)\n",
        "        )\n",
        "\n",
        "    # Perform the computation\n",
        "    def forward(self, x):\n",
        "        return self.layer_stack(x)"
      ],
      "metadata": {
        "id": "i9Pohji0dazT"
      },
      "execution_count": 137,
      "outputs": []
    },
    {
      "cell_type": "code",
      "source": [
        "model = BH_Net()\n",
        "opt = torch.optim.SGD(model.parameters(), 1e-5)\n",
        "loss_fn = F.mse_loss"
      ],
      "metadata": {
        "id": "g-mNVsoTd-ii"
      },
      "execution_count": 138,
      "outputs": []
    },
    {
      "cell_type": "code",
      "source": [
        "fit(10000, model, loss_fn, opt)"
      ],
      "metadata": {
        "colab": {
          "base_uri": "https://localhost:8080/"
        },
        "id": "h-bG64bXeAID",
        "outputId": "6a866d15-cb0b-4796-c08f-d1d745839325"
      },
      "execution_count": 140,
      "outputs": [
        {
          "output_type": "stream",
          "name": "stdout",
          "text": [
            "Training loss:  tensor(6.2986, grad_fn=<MseLossBackward0>)\n"
          ]
        }
      ]
    },
    {
      "cell_type": "code",
      "source": [
        "#Prediction on testing data\n",
        "test_inputs = torch.from_numpy(X_test)\n",
        "test_targets = torch.from_numpy(Y_test)"
      ],
      "metadata": {
        "id": "IYoqOzqpenBK"
      },
      "execution_count": 141,
      "outputs": []
    },
    {
      "cell_type": "code",
      "source": [
        "# Generate predictions\n",
        "preds_test = model(test_inputs)\n",
        "preds_test"
      ],
      "metadata": {
        "id": "BCfzG12AeqTn"
      },
      "execution_count": null,
      "outputs": []
    },
    {
      "cell_type": "code",
      "source": [
        "plot_scatter(preds_test.detach().numpy().reshape(-1),Y_test.reshape(-1),1,5,['Predicted Value','Actual Value'])"
      ],
      "metadata": {
        "colab": {
          "base_uri": "https://localhost:8080/",
          "height": 795
        },
        "id": "0EVTk75Ae3r9",
        "outputId": "9ffdcb2e-461a-4cf0-b9c4-be23f2462952"
      },
      "execution_count": 143,
      "outputs": [
        {
          "output_type": "display_data",
          "data": {
            "text/plain": [
              "<Figure size 1600x900 with 1 Axes>"
            ],
            "image/png": "[encoded data removed]"
          },
          "metadata": {}
        }
      ]
    }
  ]
}
